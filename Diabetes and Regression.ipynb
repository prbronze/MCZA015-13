{
 "cells": [
  {
   "cell_type": "markdown",
   "metadata": {},
   "source": [
    "# Diabetes Dataset\n",
    "This dataset was used in https://web.stanford.edu/~hastie/Papers/LARS/LeastAngle_2002.pdf\n",
    "by Bradley Efron, Trevor Hastie, Iain Johnstone and Robert Tibshirani, in Annals of Statistics (2004).\n",
    "\n",
    "As part of the activities in _MCZA015 - 13_ in Universidade Federal do ABC(UFABC) in 2019."
   ]
  },
  {
   "cell_type": "markdown",
   "metadata": {},
   "source": [
    "Some general ideas to approach the problem:\n",
    "\n",
    "   - linear regression\n",
    "   - 30% teste - NO DATA LEAKAGE PLS\n",
    "   - START WITH ONE PREDICTOR PER MODEL\n",
    "   - y relation to prediction is linear? necessary to add polynomial features?\n",
    "   - try to add more atributes to model\n",
    "   - use CV to compare different models\n",
    "   - Try fitting model without and with RIDGE\n",
    "   - check for corr between atributes to look for colinearity\n",
    "   - do models suffer degradation for test?\n",
    "   - is test and train cv ordering of models similar?\n",
    "\n"
   ]
  },
  {
   "cell_type": "code",
   "execution_count": null,
   "metadata": {},
   "outputs": [],
   "source": [
    "import pandas as pd\n",
    "\n",
    "df = pd.read_csv(\"diabetes.csv\")\n",
    "print(df.columns)"
   ]
  }
 ],
 "metadata": {
  "kernelspec": {
   "display_name": "Python 3",
   "language": "python",
   "name": "python3"
  },
  "language_info": {
   "codemirror_mode": {
    "name": "ipython",
    "version": 3
   },
   "file_extension": ".py",
   "mimetype": "text/x-python",
   "name": "python",
   "nbconvert_exporter": "python",
   "pygments_lexer": "ipython3",
   "version": "3.7.1"
  }
 },
 "nbformat": 4,
 "nbformat_minor": 2
}
